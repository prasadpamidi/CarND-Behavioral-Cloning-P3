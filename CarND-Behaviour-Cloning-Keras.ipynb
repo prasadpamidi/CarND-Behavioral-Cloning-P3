{
 "cells": [
  {
   "cell_type": "code",
   "execution_count": 14,
   "metadata": {
    "collapsed": false
   },
   "outputs": [],
   "source": [
    "import os.path\n",
    "import pandas as pd\n",
    "import numpy as np\n",
    "import cv2\n",
    "import matplotlib.pyplot as plt\n",
    "\n",
    "from keras.models import Sequential\n",
    "from keras.layers import Flatten, Dense, Lambda, Dropout, Cropping2D, Convolution2D, MaxPooling2D\n",
    "from keras.layers.advanced_activations import ELU\n",
    "from keras.callbacks import ModelCheckpoint\n",
    "from keras.optimizers import Adam\n",
    "from keras.regularizers import l2\n",
    "from keras.utils import plot_model\n",
    "\n",
    "from sklearn.model_selection import train_test_split\n",
    "from sklearn.utils import shuffle\n",
    "\n",
    "KERAS_CHECKPOINT_FILE_PATH = 'keras.weights.best.hdf5'\n",
    "KERAS_MODEL_WEIGHTS_FILE_PATH = 'keras.weights.h5'\n",
    "TRAIN_DATA_FOLDER = \"/data\"\n",
    "BATCH_SIZE = 128"
   ]
  },
  {
   "cell_type": "markdown",
   "metadata": {},
   "source": [
    "### Data cleaning"
   ]
  },
  {
   "cell_type": "code",
   "execution_count": 4,
   "metadata": {
    "collapsed": false
   },
   "outputs": [],
   "source": [
    "def remove_zero_bias(data_frame):\n",
    "    \"\"\"\n",
    "    Randomly deletes zero angle steering records to reduce zero angle bias.\n",
    "    \"\"\"\n",
    "    rows_with_steering_zero = data_frame[(data_frame.steering == 0)]\n",
    "    drop_indices = np.random.choice(rows_with_steering_zero.index,\n",
    "                                    int(len(rows_with_steering_zero) * 0.7),\n",
    "                                    replace=False)\n",
    "    return data_frame.drop(drop_indices)"
   ]
  },
  {
   "cell_type": "markdown",
   "metadata": {},
   "source": [
    "### Load track data"
   ]
  },
  {
   "cell_type": "code",
   "execution_count": 5,
   "metadata": {
    "collapsed": true
   },
   "outputs": [],
   "source": [
    "def process_data(directory, correction_factor):\n",
    "    \"\"\"\n",
    "    Read the data csv file, generates image paths and measurements.\n",
    "    \"\"\"\n",
    "    csv_file_path = directory + '/driving_log.csv'\n",
    "    if not os.path.exists(csv_file_path):\n",
    "        return []\n",
    "\n",
    "    data_frame = pd.read_csv(csv_file_path,\n",
    "                             names=['center', 'left', 'right',\n",
    "                                    'steering', 'throttle', 'brake', 'speed'])\n",
    "\n",
    "    data_frame = remove_zero_bias(data_frame)\n",
    "\n",
    "    processed_results = []\n",
    "    images_dir = directory + '/IMG/'\n",
    "    if not os.path.exists(images_dir):\n",
    "        return processed_results\n",
    "\n",
    "    for line in data_frame.itertuples():\n",
    "        if float(line.speed) < 0.1:\n",
    "            continue\n",
    "\n",
    "        steering_center = float(line.steering)\n",
    "        steering_left = steering_center+correction_factor\n",
    "        steering_right = steering_center-correction_factor\n",
    "\n",
    "        img_center_path = images_dir+line.center.split('/')[-1]\n",
    "        img_left_path = images_dir+line.left.split('/')[-1]\n",
    "        img_right_path = images_dir+line.right.split('/')[-1]\n",
    "\n",
    "        processed_results.append((img_center_path, steering_center))\n",
    "        processed_results.append((img_left_path, steering_left))\n",
    "        processed_results.append((img_right_path, steering_right))\n",
    "\n",
    "    return processed_results"
   ]
  },
  {
   "cell_type": "markdown",
   "metadata": {},
   "source": [
    "### Data distribution"
   ]
  },
  {
   "cell_type": "code",
   "execution_count": 11,
   "metadata": {
    "collapsed": false,
    "scrolled": false
   },
   "outputs": [
    {
     "data": {
      "text/plain": [
       "([<matplotlib.axis.XTick at 0x1218422b0>,\n",
       "  <matplotlib.axis.XTick at 0x12188f198>,\n",
       "  <matplotlib.axis.XTick at 0x121bbee80>,\n",
       "  <matplotlib.axis.XTick at 0x121fe41d0>,\n",
       "  <matplotlib.axis.XTick at 0x121fe4be0>,\n",
       "  <matplotlib.axis.XTick at 0x121fe9630>,\n",
       "  <matplotlib.axis.XTick at 0x121fee080>,\n",
       "  <matplotlib.axis.XTick at 0x121fe4cf8>,\n",
       "  <matplotlib.axis.XTick at 0x115b21be0>,\n",
       "  <matplotlib.axis.XTick at 0x121bb1a58>],\n",
       " <a list of 10 Text xticklabel objects>)"
      ]
     },
     "execution_count": 11,
     "metadata": {},
     "output_type": "execute_result"
    },
    {
     "data": {
      "image/png": "[encoded data removed]",
      "text/plain": [
       "<matplotlib.figure.Figure at 0x11e705588>"
      ]
     },
     "metadata": {},
     "output_type": "display_data"
    }
   ],
   "source": [
    "%matplotlib inline\n",
    "\n",
    "samples = process_data('data', 0.25)\n",
    "unique_rotation_angles, unique_rotation_angle_counts = np.unique([x[1] for x in samples], return_counts=True)\n",
    "\n",
    "fig = plt.figure()\n",
    "axes = fig.add_axes([0.1, 0.1, 0.8, 0.8])\n",
    "axes.plot(unique_rotation_angles, unique_rotation_angle_counts)\n",
    "plt.xticks(list(plt.xticks()[0]) + [-0.25, 0.0, 0.25])"
   ]
  },
  {
   "cell_type": "markdown",
   "metadata": {},
   "source": [
    "### Data/Image Augmentation "
   ]
  },
  {
   "cell_type": "code",
   "execution_count": 8,
   "metadata": {
    "collapsed": true
   },
   "outputs": [],
   "source": [
    "# Credits to Vivek Yadav.\n",
    "# Link: https://chatbotslife.com/using-augmentation-to-mimic-human-driving-496b569760a9\n",
    "def random_brightness_image(image):\n",
    "    \"\"\"\n",
    "    Returns an image with a random degree of brightness.\n",
    "    \"\"\"\n",
    "    dst = cv2.cvtColor(image, cv2.COLOR_RGB2HSV)\n",
    "    dst = np.array(dst, dtype=np.float64)\n",
    "    random_bright = .5+np.random.uniform()\n",
    "    dst[:, :, 2] = dst[:, :, 2]*random_bright\n",
    "    dst[:, :, 2][dst[:, :, 2] > 255] = 255\n",
    "    dst = np.array(dst, dtype=np.uint8)\n",
    "    dst = cv2.cvtColor(dst, cv2.COLOR_HSV2RGB)\n",
    "    return dst\n",
    "\n",
    "# Credits to Jeremy Shannon.\n",
    "# Link: https://github.com/jeremy-shannon/CarND-Behavioral-Cloning-Project/blob/master/model.py#L110\n",
    "def random_shift_image(image):\n",
    "    '''\n",
    "    Apply warp tranform the image\n",
    "    '''\n",
    "    h, w, _ = image.shape\n",
    "    horizon = 2*h/5\n",
    "    v_shift = np.random.randint(-h/8, h/8)\n",
    "    pts1 = np.float32([[0, horizon], [w, horizon], [0, h], [w, h]])\n",
    "    pts2 = np.float32([[0, horizon+v_shift], [w, horizon+v_shift], [0, h], [w, h]])\n",
    "    return cv2.warpPerspective(image, cv2.getPerspectiveTransform(pts1, pts2),\n",
    "                               (w, h), borderMode=cv2.BORDER_REPLICATE)\n"
   ]
  },
  {
   "cell_type": "markdown",
   "metadata": {},
   "source": [
    "### Data Generator for train and validation data"
   ]
  },
  {
   "cell_type": "code",
   "execution_count": 9,
   "metadata": {
    "collapsed": true
   },
   "outputs": [],
   "source": [
    "def generator(samples, batch_size=32, validation=False):\n",
    "    \"\"\"\n",
    "    Returns a generator for the required images and augmented images from the given set of samples.\n",
    "    \"\"\"\n",
    "    num_samples = len(samples)\n",
    "\n",
    "    while 1:\n",
    "        samples = shuffle(samples)\n",
    "        for offset in range(0, num_samples, batch_size):\n",
    "            batch_samples = samples[offset:offset+batch_size]\n",
    "            augmented_images, augmented_measurements = [], []\n",
    "            output_folder = os.path.dirname(os.path.realpath(__file__))+\"/output_images/\"\n",
    "\n",
    "            for image_path, measurement in batch_samples:\n",
    "                image = cv2.imread(image_path)\n",
    "                cv2.imwrite(output_folder+\"input_\"+image_path.split(\"/\")[-1], image)\n",
    "                image = cv2.GaussianBlur(image, (3, 3), 0)\n",
    "                cv2.imwrite(output_folder+\"gaussian_\"+image_path.split(\"/\")[-1], image)\n",
    "\n",
    "                if not validation:\n",
    "                    image = random_brightness_image(image)\n",
    "                    cv2.imwrite(output_folder+\"brightness_\"+image_path.split(\"/\")[-1], image)\n",
    "                    image = random_shift_image(image)\n",
    "                    cv2.imwrite(output_folder+\"warpped_\"+image_path.split(\"/\")[-1], image)\n",
    "\n",
    "                image = cv2.cvtColor(image, cv2.COLOR_BGR2RGB)\n",
    "\n",
    "                augmented_images.append(image)\n",
    "                augmented_measurements.append(measurement)\n",
    "\n",
    "                if abs(measurement) > 0.3:\n",
    "                    image = cv2.flip(image, 1)\n",
    "                    augmented_images.append(image)\n",
    "                    augmented_measurements.append(measurement*-1.0)\n",
    "\n",
    "                x_train = np.array(augmented_images)\n",
    "                y_train = np.array(augmented_measurements)\n",
    "\n",
    "                yield shuffle(x_train, y_train)\n",
    "                x_train, y_train = [], []"
   ]
  },
  {
   "cell_type": "markdown",
   "metadata": {},
   "source": [
    "### Preprocessing keras layers"
   ]
  },
  {
   "cell_type": "code",
   "execution_count": 10,
   "metadata": {
    "collapsed": true
   },
   "outputs": [],
   "source": [
    "def add_preprocessing_layers(model):\n",
    "    \"\"\"\n",
    "    Apply some common data preprocessing layers to the keras model.\n",
    "    \"\"\"\n",
    "    model.add(Lambda(lambda x: (x / 255.0) - 0.5, input_shape=(160, 320, 3)))\n",
    "    model.add(Cropping2D(cropping=((70, 25), (0, 0))))"
   ]
  },
  {
   "cell_type": "markdown",
   "metadata": {},
   "source": [
    "### Neural Network with LeNET Architecture"
   ]
  },
  {
   "cell_type": "code",
   "execution_count": 11,
   "metadata": {
    "collapsed": true
   },
   "outputs": [],
   "source": [
    "def lenet_arch_model():\n",
    "    \"\"\"\n",
    "    Returns the keras model for the LENET architecture.\n",
    "    \"\"\"\n",
    "    model = Sequential()\n",
    "    add_preprocessing_layers(model)\n",
    "\n",
    "    model.add(Convolution2D(6, kernel_size=(5, 5), padding=\"valid\",\n",
    "                            activation='relu', kernel_regularizer=l2(0.001)))\n",
    "    model.add(MaxPooling2D(pool_size=(2, 2)))\n",
    "    model.add(Convolution2D(16, kernel_size=(5, 5), padding=\"valid\",\n",
    "                            activation='relu', kernel_regularizer=l2(0.001)))\n",
    "    model.add(MaxPooling2D(pool_size=(2, 2)))\n",
    "\n",
    "    model.add(Flatten())\n",
    "\n",
    "    model.add(Dense(120, activation='relu', kernel_regularizer=l2(0.001)))\n",
    "    model.add(Dropout(0.65))\n",
    "    model.add(Dense(84, activation='relu', kernel_regularizer=l2(0.001)))\n",
    "    model.add(Dropout(0.65))\n",
    "    model.add(Dense(1))\n",
    "\n",
    "    return model"
   ]
  },
  {
   "cell_type": "markdown",
   "metadata": {},
   "source": [
    "### Neural Network with NVIDIA Architecture"
   ]
  },
  {
   "cell_type": "code",
   "execution_count": 12,
   "metadata": {
    "collapsed": true
   },
   "outputs": [],
   "source": [
    "def nvidia_arch_model():\n",
    "    \"\"\"\n",
    "    Returns the keras model for the popular NVIDIA architecture.\n",
    "    \"\"\"\n",
    "    model = Sequential()\n",
    "    add_preprocessing_layers(model)\n",
    "\n",
    "    model.add(Convolution2D(24, 5, strides=(2, 2), kernel_regularizer=l2(0.001)))\n",
    "    model.add(ELU())\n",
    "    model.add(Convolution2D(36, 5, strides=(2, 2), kernel_regularizer=l2(0.001)))\n",
    "    model.add(ELU())\n",
    "    model.add(Convolution2D(48, 5, strides=(2, 2), kernel_regularizer=l2(0.001)))\n",
    "    model.add(ELU())\n",
    "    model.add(Convolution2D(64, (3, 3), kernel_regularizer=l2(0.001)))\n",
    "    model.add(ELU())\n",
    "    model.add(Convolution2D(64, (3, 3), kernel_regularizer=l2(0.001)))\n",
    "    model.add(ELU())\n",
    "\n",
    "    model.add(Flatten())\n",
    "    model.add(Dense(100, kernel_regularizer=l2(0.001)))\n",
    "    model.add(ELU())\n",
    "    model.add(Dense(50, kernel_regularizer=l2(0.001)))\n",
    "    model.add(ELU())\n",
    "    model.add(Dense(10, kernel_regularizer=l2(0.001)))\n",
    "    model.add(ELU())\n",
    "    model.add(Dense(1))\n",
    "\n",
    "    return model"
   ]
  },
  {
   "cell_type": "markdown",
   "metadata": {},
   "source": [
    "### Visualize a Keras Network Model"
   ]
  },
  {
   "cell_type": "code",
   "execution_count": 13,
   "metadata": {
    "collapsed": true
   },
   "outputs": [],
   "source": [
    "def visualize_model_loss(hist_object):\n",
    "    \"\"\"\n",
    "    Visualize the loss metrics for the keras model .\n",
    "    \"\"\"\n",
    "    plt.plot(hist_object.history['loss'])\n",
    "    plt.plot(hist_object.history['val_loss'])\n",
    "    plt.title('Mean Squared Error Loss')\n",
    "    plt.ylabel('MSE Loss')\n",
    "    plt.xlabel('Epoch')\n",
    "    plt.legend(['Training set', 'Validation set'], loc='upper right')\n",
    "\n",
    "    plt.show()"
   ]
  },
  {
   "cell_type": "markdown",
   "metadata": {},
   "source": [
    "### Compile and Train the model"
   ]
  },
  {
   "cell_type": "code",
   "execution_count": 8,
   "metadata": {
    "collapsed": false,
    "scrolled": false
   },
   "outputs": [
    {
     "ename": "ValueError",
     "evalue": "When using a generator for validation data, you must specify a value for `validation_steps`.",
     "output_type": "error",
     "traceback": [
      "\u001b[0;31m---------------------------------------------------------------------------\u001b[0m",
      "\u001b[0;31mValueError\u001b[0m                                Traceback (most recent call last)",
      "\u001b[0;32m<ipython-input-8-ba4eb5b2f291>\u001b[0m in \u001b[0;36m<module>\u001b[0;34m()\u001b[0m\n\u001b[1;32m     39\u001b[0m                                            \u001b[0mepochs\u001b[0m\u001b[0;34m=\u001b[0m\u001b[0;36m5\u001b[0m\u001b[0;34m,\u001b[0m\u001b[0;34m\u001b[0m\u001b[0m\n\u001b[1;32m     40\u001b[0m                                            \u001b[0mverbose\u001b[0m\u001b[0;34m=\u001b[0m\u001b[0;36m1\u001b[0m\u001b[0;34m,\u001b[0m\u001b[0;34m\u001b[0m\u001b[0m\n\u001b[0;32m---> 41\u001b[0;31m                                            callbacks=keras_model_callbacks())\n\u001b[0m\u001b[1;32m     42\u001b[0m \u001b[0mkeras_model\u001b[0m\u001b[0;34m.\u001b[0m\u001b[0msummary\u001b[0m\u001b[0;34m(\u001b[0m\u001b[0;34m)\u001b[0m\u001b[0;34m\u001b[0m\u001b[0m\n\u001b[1;32m     43\u001b[0m \u001b[0;34m\u001b[0m\u001b[0m\n",
      "\u001b[0;32m/Users/Tittu/anaconda/envs/py352/lib/python3.5/site-packages/keras/legacy/interfaces.py\u001b[0m in \u001b[0;36mwrapper\u001b[0;34m(*args, **kwargs)\u001b[0m\n\u001b[1;32m     85\u001b[0m                 warnings.warn('Update your `' + object_name +\n\u001b[1;32m     86\u001b[0m                               '` call to the Keras 2 API: ' + signature, stacklevel=2)\n\u001b[0;32m---> 87\u001b[0;31m             \u001b[0;32mreturn\u001b[0m \u001b[0mfunc\u001b[0m\u001b[0;34m(\u001b[0m\u001b[0;34m*\u001b[0m\u001b[0margs\u001b[0m\u001b[0;34m,\u001b[0m \u001b[0;34m**\u001b[0m\u001b[0mkwargs\u001b[0m\u001b[0;34m)\u001b[0m\u001b[0;34m\u001b[0m\u001b[0m\n\u001b[0m\u001b[1;32m     88\u001b[0m         \u001b[0mwrapper\u001b[0m\u001b[0;34m.\u001b[0m\u001b[0m_original_function\u001b[0m \u001b[0;34m=\u001b[0m \u001b[0mfunc\u001b[0m\u001b[0;34m\u001b[0m\u001b[0m\n\u001b[1;32m     89\u001b[0m         \u001b[0;32mreturn\u001b[0m \u001b[0mwrapper\u001b[0m\u001b[0;34m\u001b[0m\u001b[0m\n",
      "\u001b[0;32m/Users/Tittu/anaconda/envs/py352/lib/python3.5/site-packages/keras/models.py\u001b[0m in \u001b[0;36mfit_generator\u001b[0;34m(self, generator, steps_per_epoch, epochs, verbose, callbacks, validation_data, validation_steps, class_weight, max_queue_size, workers, use_multiprocessing, initial_epoch)\u001b[0m\n\u001b[1;32m   1115\u001b[0m                                         \u001b[0mworkers\u001b[0m\u001b[0;34m=\u001b[0m\u001b[0mworkers\u001b[0m\u001b[0;34m,\u001b[0m\u001b[0;34m\u001b[0m\u001b[0m\n\u001b[1;32m   1116\u001b[0m                                         \u001b[0muse_multiprocessing\u001b[0m\u001b[0;34m=\u001b[0m\u001b[0muse_multiprocessing\u001b[0m\u001b[0;34m,\u001b[0m\u001b[0;34m\u001b[0m\u001b[0m\n\u001b[0;32m-> 1117\u001b[0;31m                                         initial_epoch=initial_epoch)\n\u001b[0m\u001b[1;32m   1118\u001b[0m \u001b[0;34m\u001b[0m\u001b[0m\n\u001b[1;32m   1119\u001b[0m     \u001b[0;34m@\u001b[0m\u001b[0minterfaces\u001b[0m\u001b[0;34m.\u001b[0m\u001b[0mlegacy_generator_methods_support\u001b[0m\u001b[0;34m\u001b[0m\u001b[0m\n",
      "\u001b[0;32m/Users/Tittu/anaconda/envs/py352/lib/python3.5/site-packages/keras/legacy/interfaces.py\u001b[0m in \u001b[0;36mwrapper\u001b[0;34m(*args, **kwargs)\u001b[0m\n\u001b[1;32m     85\u001b[0m                 warnings.warn('Update your `' + object_name +\n\u001b[1;32m     86\u001b[0m                               '` call to the Keras 2 API: ' + signature, stacklevel=2)\n\u001b[0;32m---> 87\u001b[0;31m             \u001b[0;32mreturn\u001b[0m \u001b[0mfunc\u001b[0m\u001b[0;34m(\u001b[0m\u001b[0;34m*\u001b[0m\u001b[0margs\u001b[0m\u001b[0;34m,\u001b[0m \u001b[0;34m**\u001b[0m\u001b[0mkwargs\u001b[0m\u001b[0;34m)\u001b[0m\u001b[0;34m\u001b[0m\u001b[0m\n\u001b[0m\u001b[1;32m     88\u001b[0m         \u001b[0mwrapper\u001b[0m\u001b[0;34m.\u001b[0m\u001b[0m_original_function\u001b[0m \u001b[0;34m=\u001b[0m \u001b[0mfunc\u001b[0m\u001b[0;34m\u001b[0m\u001b[0m\n\u001b[1;32m     89\u001b[0m         \u001b[0;32mreturn\u001b[0m \u001b[0mwrapper\u001b[0m\u001b[0;34m\u001b[0m\u001b[0m\n",
      "\u001b[0;32m/Users/Tittu/anaconda/envs/py352/lib/python3.5/site-packages/keras/engine/training.py\u001b[0m in \u001b[0;36mfit_generator\u001b[0;34m(self, generator, steps_per_epoch, epochs, verbose, callbacks, validation_data, validation_steps, class_weight, max_queue_size, workers, use_multiprocessing, initial_epoch)\u001b[0m\n\u001b[1;32m   1733\u001b[0m                    isinstance(validation_data, Sequence))\n\u001b[1;32m   1734\u001b[0m         \u001b[0;32mif\u001b[0m \u001b[0mval_gen\u001b[0m \u001b[0;32mand\u001b[0m \u001b[0;32mnot\u001b[0m \u001b[0mvalidation_steps\u001b[0m\u001b[0;34m:\u001b[0m\u001b[0;34m\u001b[0m\u001b[0m\n\u001b[0;32m-> 1735\u001b[0;31m             raise ValueError('When using a generator for validation data, '\n\u001b[0m\u001b[1;32m   1736\u001b[0m                              \u001b[0;34m'you must specify a value for '\u001b[0m\u001b[0;34m\u001b[0m\u001b[0m\n\u001b[1;32m   1737\u001b[0m                              '`validation_steps`.')\n",
      "\u001b[0;31mValueError\u001b[0m: When using a generator for validation data, you must specify a value for `validation_steps`."
     ]
    }
   ],
   "source": [
    "### Splitting samples and creating generators.\n",
    "data_samples = utils.process_data(os.path.dirname(os.path.realpath(__file__))+TRAIN_DATA_FOLDER, 0.25)\n",
    "train_samples, validation_samples = train_test_split(data_samples, test_size=0.2)\n",
    "\n",
    "### Create seperate generators for training and validation data\n",
    "train_generator = utils.generator(train_samples, batch_size=BATCH_SIZE)\n",
    "validation_generator = utils.generator(validation_samples, batch_size=BATCH_SIZE, validation=True)\n",
    "\n",
    "### Create a keras model\n",
    "keras_model = nvidia_arch_model()\n",
    "\n",
    "\n",
    "### Load any previous saved model weights, if exists\n",
    "if os.path.exists(KERAS_MODEL_WEIGHTS_FILE_PATH):\n",
    "    keras_model.load_weights(KERAS_MODEL_WEIGHTS_FILE_PATH)\n",
    "else:\n",
    "    print(\"No prior saved model weights exist\")\n",
    "\n",
    "### Compile and train the model using the generator function\n",
    "keras_model.compile(loss='mse', optimizer=Adam(lr=1e-5), metrics=['accuracy'])\n",
    "\n",
    "history_object = keras_model.fit_generator(train_generator,\n",
    "                                           steps_per_epoch=int(np.floor((len(train_samples))\n",
    "                                                                        /BATCH_SIZE)*BATCH_SIZE),\n",
    "                                           validation_data=validation_generator,\n",
    "                                           validation_steps=int(np.floor((len(validation_samples))\n",
    "                                                                         /BATCH_SIZE)*BATCH_SIZE),\n",
    "                                           epochs=5,\n",
    "                                           verbose=1,\n",
    "                                           callbacks=[ModelCheckpoint(KERAS_CHECKPOINT_FILE_PATH,\n",
    "                                                                      verbose=1,\n",
    "                                                                      save_best_only=True)])\n",
    "\n",
    "keras_model.save_weights(KERAS_MODEL_WEIGHTS_FILE_PATH)\n",
    "keras_model.save('model.h5')"
   ]
  },
  {
   "cell_type": "markdown",
   "metadata": {},
   "source": [
    "### Generate visualization of the entire model"
   ]
  },
  {
   "cell_type": "code",
   "execution_count": null,
   "metadata": {
    "collapsed": true
   },
   "outputs": [],
   "source": [
    "plot_model(keras_model, to_file='model.png', show_shapes=True)"
   ]
  },
  {
   "cell_type": "markdown",
   "metadata": {},
   "source": [
    "### Visualize the model loss over training and validation data\n"
   ]
  },
  {
   "cell_type": "code",
   "execution_count": null,
   "metadata": {
    "collapsed": true
   },
   "outputs": [],
   "source": [
    "visualize_model_loss(history_object)"
   ]
  }
 ],
 "metadata": {
  "kernelspec": {
   "display_name": "Python 3",
   "language": "python",
   "name": "python3"
  },
  "language_info": {
   "codemirror_mode": {
    "name": "ipython",
    "version": 3
   },
   "file_extension": ".py",
   "mimetype": "text/x-python",
   "name": "python",
   "nbconvert_exporter": "python",
   "pygments_lexer": "ipython3",
   "version": "3.5.2"
  }
 },
 "nbformat": 4,
 "nbformat_minor": 2
}
